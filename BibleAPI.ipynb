{
 "cells": [
  {
   "cell_type": "code",
   "execution_count": 5,
   "id": "2214c279",
   "metadata": {},
   "outputs": [],
   "source": [
    "import pandas as pd\n",
    "import requests\n",
    "\n"
   ]
  },
  {
   "cell_type": "code",
   "execution_count": 6,
   "id": "b101a088",
   "metadata": {},
   "outputs": [
    {
     "name": "stdout",
     "output_type": "stream",
     "text": [
      "success!\n",
      "      reference                                             verses  \\\n",
      "0  Isaiah 41:10  {'book_id': 'ISA', 'book_name': 'Isaiah', 'cha...   \n",
      "\n",
      "                                                text translation_id  \\\n",
      "0  Don’t you be afraid, for I am with you.\\nDon’t...            web   \n",
      "\n",
      "      translation_name translation_note  \n",
      "0  World English Bible    Public Domain  \n"
     ]
    }
   ],
   "source": [
    "url = \"https://bible-api.com/isaiah+41:10\"\n",
    "response = requests.get(url)\n",
    "# Check if the request was successful\n",
    "if response.status_code == 200:\n",
    "    data = response.json()\n",
    "    print('success!')\n",
    "else:\n",
    "    print(f\"Error: {response.status_code}\")\n",
    "\n",
    "df = pd.DataFrame(data)\n",
    "print(df)"
   ]
  }
 ],
 "metadata": {
  "kernelspec": {
   "display_name": "Python 3",
   "language": "python",
   "name": "python3"
  },
  "language_info": {
   "codemirror_mode": {
    "name": "ipython",
    "version": 3
   },
   "file_extension": ".py",
   "mimetype": "text/x-python",
   "name": "python",
   "nbconvert_exporter": "python",
   "pygments_lexer": "ipython3",
   "version": "3.13.2"
  }
 },
 "nbformat": 4,
 "nbformat_minor": 5
}
